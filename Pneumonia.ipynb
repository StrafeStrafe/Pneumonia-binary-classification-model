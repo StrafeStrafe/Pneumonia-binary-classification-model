{
 "cells": [
  {
   "cell_type": "code",
   "execution_count": 1,
   "id": "8b3a990b",
   "metadata": {},
   "outputs": [],
   "source": [
    "import torch.nn as nn\n",
    "import timm\n",
    "from PIL import Image\n",
    "from torch.utils.data import Dataset\n",
    "from sklearn.model_selection import train_test_split\n",
    "import utils\n",
    "import cv2\n",
    "from torchvision import datasets, models"
   ]
  },
  {
   "cell_type": "code",
   "execution_count": 2,
   "id": "ade6d690",
   "metadata": {},
   "outputs": [],
   "source": [
    "import albumentations as A"
   ]
  },
  {
   "cell_type": "code",
   "execution_count": 3,
   "id": "df961b37",
   "metadata": {},
   "outputs": [],
   "source": [
    "import numpy as np\n",
    "import pandas as pd\n",
    "import torch\n",
    "import os\n",
    "import matplotlib.pyplot as plt\n",
    "import torch.nn.functional as F \n",
    "from torch import nn,optim\n",
    "from torchvision import transforms as T,datasets,models\n",
    "from torchvision.utils import make_grid\n",
    "from torch.utils.data import DataLoader\n",
    "from collections import OrderedDict\n",
    "import tqdm\n",
    "from torch import nn, optim\n",
    "from torch.autograd import Variable"
   ]
  },
  {
   "cell_type": "code",
   "execution_count": 4,
   "id": "202ef7ce",
   "metadata": {},
   "outputs": [],
   "source": [
    "data_dir = os.listdir(\"Y:\\Python\\Datasets\\chest_xray\")\n",
    "path = \"Y:\\Python\\Datasets\\chest_xray\""
   ]
  },
  {
   "cell_type": "code",
   "execution_count": 5,
   "id": "0c59488d",
   "metadata": {},
   "outputs": [],
   "source": [
    "train_n = os.path.join(path, \"train\", \"NORMAL\")\n",
    "train_p = os.path.join(path, \"train\", \"PNEUMONIA\")\n",
    "\n",
    "val_n = os.path.join(path, \"val\", \"NORMAL\")\n",
    "val_p = os.path.join(path, \"val\", \"PNEUMONIA\")\n",
    "\n",
    "test_n = os.path.join(path, \"test\", \"NORMAL\")\n",
    "test_p = os.path.join(path, \"test\", \"PNEUMONIA\")"
   ]
  },
  {
   "cell_type": "code",
   "execution_count": 6,
   "id": "7d69357c",
   "metadata": {},
   "outputs": [
    {
     "ename": "SyntaxError",
     "evalue": "(unicode error) 'unicodeescape' codec can't decode bytes in position 46-47: malformed \\N character escape (<ipython-input-6-c8391733f18d>, line 1)",
     "output_type": "error",
     "traceback": [
      "\u001b[1;36m  File \u001b[1;32m\"<ipython-input-6-c8391733f18d>\"\u001b[1;36m, line \u001b[1;32m1\u001b[0m\n\u001b[1;33m    img1 = Image.open(\"Y:\\Python\\Datasets\\chest_xray\\chest_xray\\train\\NORMAL\\IM-0115-0001.jpg\")\u001b[0m\n\u001b[1;37m                     ^\u001b[0m\n\u001b[1;31mSyntaxError\u001b[0m\u001b[1;31m:\u001b[0m (unicode error) 'unicodeescape' codec can't decode bytes in position 46-47: malformed \\N character escape\n"
     ]
    }
   ],
   "source": []
  },
  {
   "cell_type": "code",
   "execution_count": 7,
   "id": "f01a55a8",
   "metadata": {},
   "outputs": [],
   "source": [
    "def create_X_y(data_n, data_p):\n",
    "    norm_img_list = []\n",
    "    for filename in os.listdir(data_n):\n",
    "        norm_img_list.append(os.path.join(data_n, filename))\n",
    "        \n",
    "    pneu_img_list = []\n",
    "    for filename in os.listdir(data_p):\n",
    "        pneu_img_list.append(os.path.join(data_p, filename))\n",
    "    \n",
    "    data = np.concatenate([norm_img_list, pneu_img_list])\n",
    "    target = np.zeros(len(data))\n",
    "    target[:len(norm_img_list)] = 1\n",
    "    \n",
    "    return data, target"
   ]
  },
  {
   "cell_type": "code",
   "execution_count": 8,
   "id": "a2602d91",
   "metadata": {},
   "outputs": [],
   "source": [
    "train_X, train_y = create_X_y(train_n, train_p)\n",
    "val_X, val_y = create_X_y(val_n, val_p)\n",
    "test_X, test_y = create_X_y(test_n, test_p)"
   ]
  },
  {
   "cell_type": "code",
   "execution_count": 10,
   "id": "7dc3d49f",
   "metadata": {},
   "outputs": [
    {
     "data": {
      "text/plain": [
       "array(['Y:\\\\Python\\\\Datasets\\\\chest_xray\\\\train\\\\NORMAL\\\\IM-0115-0001.jpeg',\n",
       "       'Y:\\\\Python\\\\Datasets\\\\chest_xray\\\\train\\\\NORMAL\\\\IM-0117-0001.jpeg',\n",
       "       'Y:\\\\Python\\\\Datasets\\\\chest_xray\\\\train\\\\NORMAL\\\\IM-0119-0001.jpeg',\n",
       "       ...,\n",
       "       'Y:\\\\Python\\\\Datasets\\\\chest_xray\\\\train\\\\PNEUMONIA\\\\person9_bacteria_39.jpeg',\n",
       "       'Y:\\\\Python\\\\Datasets\\\\chest_xray\\\\train\\\\PNEUMONIA\\\\person9_bacteria_40.jpeg',\n",
       "       'Y:\\\\Python\\\\Datasets\\\\chest_xray\\\\train\\\\PNEUMONIA\\\\person9_bacteria_41.jpeg'],\n",
       "      dtype='<U75')"
      ]
     },
     "execution_count": 10,
     "metadata": {},
     "output_type": "execute_result"
    }
   ],
   "source": [
    "train_X"
   ]
  },
  {
   "cell_type": "code",
   "execution_count": null,
   "id": "28ca3bd4",
   "metadata": {},
   "outputs": [],
   "source": [
    "X"
   ]
  },
  {
   "cell_type": "code",
   "execution_count": 10,
   "id": "cf542506",
   "metadata": {},
   "outputs": [],
   "source": [
    "def data_transforms():\n",
    "    transformed_data = T.Compose([\n",
    "                            \n",
    "                            T.RandomRotation(22),\n",
    "                            T.Grayscale(),\n",
    "                            T.Resize(size = (256,256)),\n",
    "                            T.ToTensor()\n",
    "                            \n",
    "                            \n",
    "])\n",
    "    return transformed_data"
   ]
  },
  {
   "cell_type": "code",
   "execution_count": 11,
   "id": "2119d3f4",
   "metadata": {},
   "outputs": [],
   "source": [
    "device = torch.device(\"cuda\" if torch.cuda.is_available() else \"cpu\")"
   ]
  },
  {
   "cell_type": "code",
   "execution_count": 12,
   "id": "859fcd60",
   "metadata": {},
   "outputs": [],
   "source": [
    "TEST = \"test\"\n",
    "TRAIN = \"train\"\n",
    "VAL = \"val\""
   ]
  },
  {
   "cell_type": "code",
   "execution_count": null,
   "id": "48b2692f",
   "metadata": {},
   "outputs": [],
   "source": [
    "train_norm_data = os.listdir(train_n)\n",
    "train_p_data = os.listdir(train_p)"
   ]
  },
  {
   "cell_type": "code",
   "execution_count": null,
   "id": "5e2edcac",
   "metadata": {},
   "outputs": [],
   "source": [
    "        np.array(Image.open(train_X[21])).shape"
   ]
  },
  {
   "cell_type": "code",
   "execution_count": 13,
   "id": "0069d82e",
   "metadata": {},
   "outputs": [],
   "source": [
    "class LungsDataset(Dataset):\n",
    "    def __init__(self, data, target, transform = None):\n",
    "        super().__init__()\n",
    "        self.data = data\n",
    "        self.target = target\n",
    "        self.transform = transform\n",
    "        \n",
    "    def __len__(self):\n",
    "        return len(self.data)\n",
    "    \n",
    "    def __getitem__(self, index):\n",
    "        y = self.target[index]\n",
    "        img = Image.open(self.data[index])\n",
    "        \n",
    "        if self.transform is not None:\n",
    "            img = self.transform(img)\n",
    "        img = img/255\n",
    "        return img, y"
   ]
  },
  {
   "cell_type": "code",
   "execution_count": 16,
   "id": "66b70a2d",
   "metadata": {},
   "outputs": [],
   "source": [
    "for X, y in train_dataloader:\n",
    "    break"
   ]
  },
  {
   "cell_type": "code",
   "execution_count": 15,
   "id": "0b25ee30",
   "metadata": {},
   "outputs": [],
   "source": [
    "train_dataset = LungsDataset(train_X, train_y, data_transforms())\n",
    "train_dataloader = DataLoader(train_dataset, batch_size = 8, shuffle = True)\n",
    "\n",
    "val_dataset = LungsDataset(val_X, val_y, data_transforms())\n",
    "val_dataloader = DataLoader(val_dataset, batch_size = 8, shuffle = True)\n",
    "\n",
    "test_dataset = LungsDataset(test_X, test_y, data_transforms())\n",
    "test_dataloader = DataLoader(test_dataset, batch_size = 2, shuffle = True)"
   ]
  },
  {
   "cell_type": "code",
   "execution_count": null,
   "id": "3f2212cd",
   "metadata": {},
   "outputs": [],
   "source": [
    "X[1]"
   ]
  },
  {
   "cell_type": "code",
   "execution_count": null,
   "id": "0b8c5322",
   "metadata": {},
   "outputs": [],
   "source": [
    "model = timm.create_model(\"res2next50\", num_classes = 2, in_chans = 1).to(device)"
   ]
  },
  {
   "cell_type": "code",
   "execution_count": null,
   "id": "e917c406",
   "metadata": {},
   "outputs": [],
   "source": [
    "class PneumoniaModel(nn.Module):\n",
    "    def __init__(self):\n",
    "        super(PneumoniaModel, self).__init__()\n",
    "        self.backbone = timm.create_model(\"tf_efficientnet_b0\", in_chans = 1)\n",
    "        self.backbone.classifier = nn.Linear(self.backbone.classifier.in_features, 2)\n",
    "                                        \n",
    "    def forward(self, X):\n",
    "        X = self.backbone(X)\n",
    "        return X"
   ]
  },
  {
   "cell_type": "code",
   "execution_count": null,
   "id": "536376f6",
   "metadata": {},
   "outputs": [],
   "source": [
    "\n",
    "model"
   ]
  },
  {
   "cell_type": "code",
   "execution_count": null,
   "id": "e8b8bb96",
   "metadata": {},
   "outputs": [],
   "source": [
    "loss_fn = nn.CrossEntropyLoss()\n",
    "optimizer = torch.optim.Adam(model.parameters())\n",
    "num_epochs = 5\n"
   ]
  },
  {
   "cell_type": "code",
   "execution_count": null,
   "id": "3c491fa0",
   "metadata": {},
   "outputs": [],
   "source": [
    "from tqdm.notebook import tqdm"
   ]
  },
  {
   "cell_type": "code",
   "execution_count": null,
   "id": "6be3705a",
   "metadata": {},
   "outputs": [],
   "source": [
    "torch.cuda.is_available()"
   ]
  },
  {
   "cell_type": "code",
   "execution_count": null,
   "id": "862a2a2b",
   "metadata": {},
   "outputs": [],
   "source": [
    "train_losses = []\n",
    "val_losses = []\n",
    "\n",
    "\n",
    "if torch.cuda.is_available():\n",
    "    model.cuda()\n",
    "    model.train()\n",
    "    for e in range(1):\n",
    "        i = 0\n",
    "        for X, y in tqdm(train_dataloader):\n",
    "            optimizer.zero_grad()\n",
    "            pred = model(X.to(device))\n",
    "            loss = loss_fn(pred, y.to(device).long())\n",
    "            loss.backward()\n",
    "            optimizer.step()\n",
    "            \n",
    "            train_losses.append(loss.item())\n",
    "        \n",
    "        for X, y in tqdm(val_dataloader):\n",
    "            pred = model(X.to(device))\n",
    "            loss = loss_fn(pred, y.to(device).long())\n",
    "        \n",
    "            val_losses.append(loss.item())\n",
    "        \n",
    "        i += 1   \n",
    "        \n",
    "        print(\"Epoch: \", i)\n",
    "        print(\"train loss: \", np.mean(train_losses))\n",
    "        print(\"val loss: \", np.mean(val_losses))"
   ]
  },
  {
   "cell_type": "code",
   "execution_count": null,
   "id": "3f49c22e",
   "metadata": {},
   "outputs": [],
   "source": [
    "\n",
    "all_pred = []\n",
    "all_target = []\n",
    "for X, y in tqdm(test_dataloader):\n",
    "    pred = model(X.to(device))\n",
    "    all_pred.append(torch.argmax(pred, dim = 1).detach().cpu().numpy())\n",
    "    all_target.append(y.detach().cpu().numpy())\n",
    "    \n"
   ]
  },
  {
   "cell_type": "code",
   "execution_count": null,
   "id": "f10b4ad5",
   "metadata": {},
   "outputs": [],
   "source": [
    "all_pred = np.concatenate(all_pred)\n",
    "all_target = np.concatenate(all_target)"
   ]
  },
  {
   "cell_type": "code",
   "execution_count": null,
   "id": "63f16573",
   "metadata": {},
   "outputs": [],
   "source": [
    "from sklearn.metrics import classification_report"
   ]
  },
  {
   "cell_type": "code",
   "execution_count": null,
   "id": "bb9fd88f",
   "metadata": {},
   "outputs": [],
   "source": [
    "report = classification_report(all_target, all_pred)"
   ]
  },
  {
   "cell_type": "code",
   "execution_count": null,
   "id": "da382ac9",
   "metadata": {},
   "outputs": [],
   "source": [
    "print(report)"
   ]
  },
  {
   "cell_type": "code",
   "execution_count": null,
   "id": "a9615f75",
   "metadata": {},
   "outputs": [],
   "source": [
    "torch.argmax(pred, dim = 1) "
   ]
  },
  {
   "cell_type": "code",
   "execution_count": null,
   "id": "7c60a5d5",
   "metadata": {},
   "outputs": [],
   "source": [
    "y"
   ]
  },
  {
   "cell_type": "code",
   "execution_count": null,
   "id": "ee2e04df",
   "metadata": {},
   "outputs": [],
   "source": [
    "X.shape"
   ]
  },
  {
   "cell_type": "code",
   "execution_count": null,
   "id": "2785f857",
   "metadata": {},
   "outputs": [],
   "source": [
    "for X, y in train_dataloader:\n",
    "    break"
   ]
  }
 ],
 "metadata": {
  "kernelspec": {
   "display_name": "Python 3",
   "language": "python",
   "name": "python3"
  },
  "language_info": {
   "codemirror_mode": {
    "name": "ipython",
    "version": 3
   },
   "file_extension": ".py",
   "mimetype": "text/x-python",
   "name": "python",
   "nbconvert_exporter": "python",
   "pygments_lexer": "ipython3",
   "version": "3.6.8"
  }
 },
 "nbformat": 4,
 "nbformat_minor": 5
}
